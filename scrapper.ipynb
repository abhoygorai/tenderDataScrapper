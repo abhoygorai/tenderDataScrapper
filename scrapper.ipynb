{
 "cells": [
  {
   "cell_type": "code",
   "execution_count": 27,
   "metadata": {},
   "outputs": [],
   "source": [
    "from utils import scrape_username, scrape_general_info, get_influencer_link, get_information, getPostCount\n",
    "import utils\n",
    "import os\n",
    "import platform\n",
    "import time\n",
    "import urllib.request\n",
    "import openpyxl\n",
    "import operator\n",
    "import math\n",
    "from selenium import webdriver\n",
    "from selenium.webdriver.common.keys import Keys\n",
    "from selenium.webdriver.common.action_chains import ActionChains\n",
    "from openpyxl import Workbook\n",
    "import sys\n",
    "import requests\n",
    "import re\n",
    "import json\n",
    "from selenium.webdriver.common.keys import Keys\n",
    "from bs4 import BeautifulSoup\n",
    "import csv\n",
    "\n",
    "import pandas as pd\n",
    "import numpy as np\n",
    "\n",
    "import warnings\n",
    "warnings.filterwarnings('ignore')\n"
   ]
  },
  {
   "cell_type": "code",
   "execution_count": null,
   "metadata": {},
   "outputs": [],
   "source": [
    "# This is the code for the lated tenders\n",
    "\n",
    "driver = webdriver.Edge()\n",
    "url = \"https://etenders.gov.in/eprocure/app\"\n",
    "driver.get(url)\n",
    "time.sleep(5)\n",
    "details = []\n",
    "\n",
    "content = driver.page_source\n",
    "soup = BeautifulSoup(content)\n",
    "for a in soup.findAll('table',href=False, attrs={'id':'activeTenders'}):\n",
    "    t_body = a.find('tbody')\n",
    "    tr = t_body.findAll('tr')\n",
    "    for row in tr:\n",
    "        element = []\n",
    "        td = row.findAll('td')\n",
    "        element.append(td[0].find('a').text[3:len(td[0].find('a').text)])\n",
    "        element.append(td[1].text)\n",
    "        element.append(td[2].text)\n",
    "        element.append(td[3].text)\n",
    "        details.append(element)\n",
    "\n",
    "    \n",
    "header = ['Title', 'Referance Number', 'Closing Date', 'Bid Opening Date']\n",
    "\n",
    "file_name = input(\"Enter the file name: \")\n",
    "with open(file_name + '.csv', 'w', encoding='UTF8', newline='') as f:\n",
    "    writer = csv.writer(f)\n",
    "    writer.writerow(header)\n",
    "\n",
    "    for li in details:\n",
    "       writer.writerow(li)\n",
    "\n",
    "\n",
    "print(\"csv created\")"
   ]
  },
  {
   "cell_type": "code",
   "execution_count": 38,
   "metadata": {},
   "outputs": [
    {
     "name": "stdout",
     "output_type": "stream",
     "text": [
      "csv created\n"
     ]
    }
   ],
   "source": [
    "# This is the code for the lated Corrigendum\n",
    "\n",
    "driver = webdriver.Edge()\n",
    "url = \"https://etenders.gov.in/eprocure/app\"\n",
    "driver.get(url)\n",
    "time.sleep(5)\n",
    "details = []\n",
    "\n",
    "content = driver.page_source\n",
    "soup = BeautifulSoup(content)\n",
    "for a in soup.findAll('table',href=False, attrs={'id':'activeCorrigendums'}):\n",
    "    t_body = a.find('tbody')\n",
    "    tr = t_body.findAll('tr')\n",
    "    for row in tr:\n",
    "        element = []\n",
    "        td = row.findAll('td')\n",
    "        element.append(td[0].find('a').text[3:len(td[0].find('a').text)])\n",
    "        element.append(td[1].text)\n",
    "        element.append(td[2].text)\n",
    "        element.append(td[3].text)\n",
    "        details.append(element)\n",
    "\n",
    "    \n",
    "header = ['Title', 'Referance Number', 'Closing Date', 'Bid Opening Date']\n",
    "\n",
    "file_name = input(\"Enter the file name: \")\n",
    "with open(file_name + '.csv', 'w', encoding='UTF8', newline='') as f:\n",
    "    writer = csv.writer(f)\n",
    "    writer.writerow(header)\n",
    "\n",
    "    for li in details:\n",
    "       writer.writerow(li)\n",
    "\n",
    "\n",
    "print(\"csv created\")"
   ]
  }
 ],
 "metadata": {
  "kernelspec": {
   "display_name": "Python 3",
   "language": "python",
   "name": "python3"
  },
  "language_info": {
   "codemirror_mode": {
    "name": "ipython",
    "version": 3
   },
   "file_extension": ".py",
   "mimetype": "text/x-python",
   "name": "python",
   "nbconvert_exporter": "python",
   "pygments_lexer": "ipython3",
   "version": "3.11.1"
  },
  "orig_nbformat": 4,
  "vscode": {
   "interpreter": {
    "hash": "a080e90c9cd6109fbb36cc4b8fe7ffb393260804bd684b1a331b5b883b6b9c09"
   }
  }
 },
 "nbformat": 4,
 "nbformat_minor": 2
}
